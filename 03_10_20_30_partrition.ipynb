{
 "cells": [
  {
   "cell_type": "code",
   "execution_count": 1,
   "source": [
    "import pandas as pd\n",
    "import numpy as np"
   ],
   "outputs": [],
   "metadata": {}
  },
  {
   "cell_type": "code",
   "execution_count": 2,
   "source": [
    "df = pd.read_csv(\"TRAIN.csv\", index_col=0)"
   ],
   "outputs": [],
   "metadata": {}
  },
  {
   "cell_type": "code",
   "execution_count": 11,
   "source": [
    "stratifier = np.array(df)# 这里的意思就是在划分训练集和测试集进行采样的时候，按照样本比例进行划分  \n",
    "from sklearn.model_selection import train_test_split\n",
    "Labled_in, Unlabled_in = train_test_split(df.index, test_size=0.6, stratify=stratifier)"
   ],
   "outputs": [],
   "metadata": {}
  },
  {
   "cell_type": "code",
   "execution_count": 8,
   "source": [
    "#发现问题，在划分的时候是对所有图像进行划分的，但是最后只取了四类图像，所以这四类图像不成比例"
   ],
   "outputs": [],
   "metadata": {}
  },
  {
   "cell_type": "code",
   "execution_count": 12,
   "source": [
    "Labled_in = df.T[Labled_in].T\n",
    "Labled_in.info()\n",
    "Labled_in.head()\n",
    "Labled_in.to_csv(\"Labled_in_0.4.csv\")"
   ],
   "outputs": [
    {
     "output_type": "stream",
     "name": "stdout",
     "text": [
      "<class 'pandas.core.frame.DataFrame'>\n",
      "Index: 5977 entries, ISIC_0056235 to ISIC_0031894\n",
      "Data columns (total 9 columns):\n",
      " #   Column  Non-Null Count  Dtype  \n",
      "---  ------  --------------  -----  \n",
      " 0   MEL     5977 non-null   float64\n",
      " 1   NV      5977 non-null   float64\n",
      " 2   BCC     5977 non-null   float64\n",
      " 3   AK      5977 non-null   float64\n",
      " 4   BKL     5977 non-null   float64\n",
      " 5   DF      5977 non-null   float64\n",
      " 6   VASC    5977 non-null   float64\n",
      " 7   SCC     5977 non-null   float64\n",
      " 8   UNK     5977 non-null   float64\n",
      "dtypes: float64(9)\n",
      "memory usage: 467.0+ KB\n"
     ]
    }
   ],
   "metadata": {}
  },
  {
   "cell_type": "code",
   "execution_count": 13,
   "source": [
    "Unlabled_in = df.T[Unlabled_in].T\n",
    "Unlabled_in.info()\n",
    "Unlabled_in.head()\n",
    "Unlabled_in.to_csv(\"Unlabled_in_0.4.csv\")"
   ],
   "outputs": [
    {
     "output_type": "stream",
     "name": "stdout",
     "text": [
      "<class 'pandas.core.frame.DataFrame'>\n",
      "Index: 8966 entries, ISIC_0026292 to ISIC_0067303\n",
      "Data columns (total 9 columns):\n",
      " #   Column  Non-Null Count  Dtype  \n",
      "---  ------  --------------  -----  \n",
      " 0   MEL     8966 non-null   float64\n",
      " 1   NV      8966 non-null   float64\n",
      " 2   BCC     8966 non-null   float64\n",
      " 3   AK      8966 non-null   float64\n",
      " 4   BKL     8966 non-null   float64\n",
      " 5   DF      8966 non-null   float64\n",
      " 6   VASC    8966 non-null   float64\n",
      " 7   SCC     8966 non-null   float64\n",
      " 8   UNK     8966 non-null   float64\n",
      "dtypes: float64(9)\n",
      "memory usage: 700.5+ KB\n"
     ]
    }
   ],
   "metadata": {}
  },
  {
   "cell_type": "code",
   "execution_count": 26,
   "source": [
    "data_dir = \"/Users/tangyujin/Desktop/09-半监督/03_data/ISIC2019 384x384 jpeg/train/\"\n",
    "train_dir = \"/Users/tangyujin/Desktop/09-半监督/03_data/ISIC2019 384x384 jpeg/data/train/\"\n",
    "TRAIN_1_labeled_dir = \"/Users/tangyujin/Desktop/09-半监督/03_data/ISIC2019 384x384 jpeg/data/train_1_labeld/\"\n",
    "TRAIN_1_unlabeled_dir = \"/Users/tangyujin/Desktop/09-半监督/03_data/ISIC2019 384x384 jpeg/data/train_1_unlabeld/\"\n",
    "TRAIN_2_labeled_dir = \"/Users/tangyujin/Desktop/09-半监督/03_data/ISIC2019 384x384 jpeg/data/train_2_labeld/\"\n",
    "TRAIN_2_unlabeled_dir = \"/Users/tangyujin/Desktop/09-半监督/03_data/ISIC2019 384x384 jpeg/data/train_2_unlabeld/\"\n",
    "TRAIN_4_labeled_dir = \"/Users/tangyujin/Desktop/09-半监督/03_data/ISIC2019 384x384 jpeg/data/train_4_labeld/\"\n",
    "TRAIN_4_unlabeled_dir = \"/Users/tangyujin/Desktop/09-半监督/03_data/ISIC2019 384x384 jpeg/data/train_4_unlabeld/\""
   ],
   "outputs": [],
   "metadata": {}
  },
  {
   "cell_type": "code",
   "execution_count": 2,
   "source": [
    "import os\n",
    "from tqdm import tqdm_notebook\n",
    "from skimage import io\n",
    "import imageio"
   ],
   "outputs": [],
   "metadata": {}
  },
  {
   "cell_type": "code",
   "execution_count": 24,
   "source": [
    "TRAIN = pd.read_csv(\"TRAIN.csv\", index_col=0)"
   ],
   "outputs": [],
   "metadata": {}
  },
  {
   "cell_type": "code",
   "execution_count": 27,
   "source": [
    "# 对train,val,test,需要修改三处地方\n",
    "class_dir = train_dir \n",
    "if not os.path.exists(class_dir):\n",
    "    os.mkdir(class_dir)\n",
    "for name in tqdm_notebook(TRAIN.index):\n",
    "    img = io.imread(data_dir+name+\".jpg\")\n",
    "    imageio.imsave(class_dir+ '/'+name+\".jpg\", img)"
   ],
   "outputs": [
    {
     "output_type": "stream",
     "name": "stderr",
     "text": [
      "/Users/tangyujin/04软件盘/anaconda3/envs/pytorch/lib/python3.6/site-packages/ipykernel_launcher.py:5: TqdmDeprecationWarning: This function will be removed in tqdm==5.0.0\n",
      "Please use `tqdm.notebook.tqdm` instead of `tqdm.tqdm_notebook`\n",
      "  \"\"\"\n"
     ]
    },
    {
     "output_type": "display_data",
     "data": {
      "text/plain": [
       "  0%|          | 0/14943 [00:00<?, ?it/s]"
      ],
      "application/vnd.jupyter.widget-view+json": {
       "version_major": 2,
       "version_minor": 0,
       "model_id": "ef0a8475baf54dec9ca54ffe435bb0c3"
      }
     },
     "metadata": {}
    }
   ],
   "metadata": {}
  },
  {
   "cell_type": "code",
   "execution_count": 26,
   "source": [
    "# 对train,val,test,需要修改三处地方\n",
    "def make_class_image(class_name):\n",
    "    class_df = TRAIN[TRAIN[class_name]==1.0]\n",
    "    class_dir = TRAIN_1_labeled_dir + class_name\n",
    "    if not os.path.exists(class_dir):\n",
    "        os.mkdir(class_dir)\n",
    "    for name in tqdm_notebook(class_df.index):\n",
    "        img = io.imread(data_dir+name+\".jpg\")\n",
    "        imageio.imsave(class_dir+ '/'+name+\".jpg\", img)\n",
    "make_class_image(\"MEL\")       \n",
    "make_class_image(\"BCC\")\n",
    "make_class_image(\"SCC\")\n",
    "make_class_image(\"NV\")"
   ],
   "outputs": [
    {
     "output_type": "stream",
     "name": "stderr",
     "text": [
      "/Users/tangyujin/04软件盘/anaconda3/envs/pytorch/lib/python3.6/site-packages/ipykernel_launcher.py:7: TqdmDeprecationWarning: This function will be removed in tqdm==5.0.0\n",
      "Please use `tqdm.notebook.tqdm` instead of `tqdm.tqdm_notebook`\n",
      "  import sys\n"
     ]
    },
    {
     "output_type": "display_data",
     "data": {
      "text/plain": [
       "  0%|          | 0/316 [00:00<?, ?it/s]"
      ],
      "application/vnd.jupyter.widget-view+json": {
       "model_id": "ec4864ca6b3e46809b18186fed431d4e",
       "version_major": 2,
       "version_minor": 0
      }
     },
     "metadata": {}
    },
    {
     "output_type": "stream",
     "name": "stderr",
     "text": [
      "/Users/tangyujin/04软件盘/anaconda3/envs/pytorch/lib/python3.6/site-packages/ipykernel_launcher.py:7: TqdmDeprecationWarning: This function will be removed in tqdm==5.0.0\n",
      "Please use `tqdm.notebook.tqdm` instead of `tqdm.tqdm_notebook`\n",
      "  import sys\n"
     ]
    },
    {
     "output_type": "display_data",
     "data": {
      "text/plain": [
       "  0%|          | 0/233 [00:00<?, ?it/s]"
      ],
      "application/vnd.jupyter.widget-view+json": {
       "model_id": "3b9f0d3bf32446b39ed4434a27aad418",
       "version_major": 2,
       "version_minor": 0
      }
     },
     "metadata": {}
    },
    {
     "output_type": "stream",
     "name": "stderr",
     "text": [
      "/Users/tangyujin/04软件盘/anaconda3/envs/pytorch/lib/python3.6/site-packages/ipykernel_launcher.py:7: TqdmDeprecationWarning: This function will be removed in tqdm==5.0.0\n",
      "Please use `tqdm.notebook.tqdm` instead of `tqdm.tqdm_notebook`\n",
      "  import sys\n"
     ]
    },
    {
     "output_type": "display_data",
     "data": {
      "text/plain": [
       "  0%|          | 0/44 [00:00<?, ?it/s]"
      ],
      "application/vnd.jupyter.widget-view+json": {
       "model_id": "d3cec30bb0f549da9ad823ac66b43abd",
       "version_major": 2,
       "version_minor": 0
      }
     },
     "metadata": {}
    },
    {
     "output_type": "stream",
     "name": "stderr",
     "text": [
      "/Users/tangyujin/04软件盘/anaconda3/envs/pytorch/lib/python3.6/site-packages/ipykernel_launcher.py:7: TqdmDeprecationWarning: This function will be removed in tqdm==5.0.0\n",
      "Please use `tqdm.notebook.tqdm` instead of `tqdm.tqdm_notebook`\n",
      "  import sys\n"
     ]
    },
    {
     "output_type": "display_data",
     "data": {
      "text/plain": [
       "  0%|          | 0/901 [00:00<?, ?it/s]"
      ],
      "application/vnd.jupyter.widget-view+json": {
       "model_id": "c0c53ed85968462fb0cfcd0a5074cf27",
       "version_major": 2,
       "version_minor": 0
      }
     },
     "metadata": {}
    }
   ],
   "metadata": {}
  },
  {
   "cell_type": "code",
   "execution_count": 27,
   "source": [
    "TRAIN = pd.read_csv(\"Labled_in_0.2.csv\", index_col=0)"
   ],
   "outputs": [],
   "metadata": {}
  },
  {
   "cell_type": "code",
   "execution_count": 28,
   "source": [
    "# 对train,val,test,需要修改三处地方\n",
    "def make_class_image(class_name):\n",
    "    class_df = TRAIN[TRAIN[class_name]==1.0]\n",
    "    class_dir = TRAIN_2_labeled_dir + class_name\n",
    "    if not os.path.exists(class_dir):\n",
    "        os.mkdir(class_dir)\n",
    "    for name in tqdm_notebook(class_df.index):\n",
    "        img = io.imread(data_dir+name+\".jpg\")\n",
    "        imageio.imsave(class_dir+ '/'+name+\".jpg\", img)\n",
    "make_class_image(\"MEL\")       \n",
    "make_class_image(\"BCC\")\n",
    "make_class_image(\"SCC\")\n",
    "make_class_image(\"NV\")"
   ],
   "outputs": [
    {
     "output_type": "stream",
     "name": "stderr",
     "text": [
      "/Users/tangyujin/04软件盘/anaconda3/envs/pytorch/lib/python3.6/site-packages/ipykernel_launcher.py:7: TqdmDeprecationWarning: This function will be removed in tqdm==5.0.0\n",
      "Please use `tqdm.notebook.tqdm` instead of `tqdm.tqdm_notebook`\n",
      "  import sys\n"
     ]
    },
    {
     "output_type": "display_data",
     "data": {
      "text/plain": [
       "  0%|          | 0/633 [00:00<?, ?it/s]"
      ],
      "application/vnd.jupyter.widget-view+json": {
       "model_id": "28b44d75bd4048a1948055072511e642",
       "version_major": 2,
       "version_minor": 0
      }
     },
     "metadata": {}
    },
    {
     "output_type": "stream",
     "name": "stderr",
     "text": [
      "/Users/tangyujin/04软件盘/anaconda3/envs/pytorch/lib/python3.6/site-packages/ipykernel_launcher.py:7: TqdmDeprecationWarning: This function will be removed in tqdm==5.0.0\n",
      "Please use `tqdm.notebook.tqdm` instead of `tqdm.tqdm_notebook`\n",
      "  import sys\n"
     ]
    },
    {
     "output_type": "display_data",
     "data": {
      "text/plain": [
       "  0%|          | 0/465 [00:00<?, ?it/s]"
      ],
      "application/vnd.jupyter.widget-view+json": {
       "model_id": "45f69320576340a5bb2e0aa0cf291864",
       "version_major": 2,
       "version_minor": 0
      }
     },
     "metadata": {}
    },
    {
     "output_type": "stream",
     "name": "stderr",
     "text": [
      "/Users/tangyujin/04软件盘/anaconda3/envs/pytorch/lib/python3.6/site-packages/ipykernel_launcher.py:7: TqdmDeprecationWarning: This function will be removed in tqdm==5.0.0\n",
      "Please use `tqdm.notebook.tqdm` instead of `tqdm.tqdm_notebook`\n",
      "  import sys\n"
     ]
    },
    {
     "output_type": "display_data",
     "data": {
      "text/plain": [
       "  0%|          | 0/88 [00:00<?, ?it/s]"
      ],
      "application/vnd.jupyter.widget-view+json": {
       "model_id": "c8019b1b992c4bd2833c75dabfb5dc31",
       "version_major": 2,
       "version_minor": 0
      }
     },
     "metadata": {}
    },
    {
     "output_type": "stream",
     "name": "stderr",
     "text": [
      "/Users/tangyujin/04软件盘/anaconda3/envs/pytorch/lib/python3.6/site-packages/ipykernel_launcher.py:7: TqdmDeprecationWarning: This function will be removed in tqdm==5.0.0\n",
      "Please use `tqdm.notebook.tqdm` instead of `tqdm.tqdm_notebook`\n",
      "  import sys\n"
     ]
    },
    {
     "output_type": "display_data",
     "data": {
      "text/plain": [
       "  0%|          | 0/1802 [00:00<?, ?it/s]"
      ],
      "application/vnd.jupyter.widget-view+json": {
       "model_id": "49ae59e1be834e75bf63257cef394964",
       "version_major": 2,
       "version_minor": 0
      }
     },
     "metadata": {}
    }
   ],
   "metadata": {}
  },
  {
   "cell_type": "code",
   "execution_count": 29,
   "source": [
    "TRAIN = pd.read_csv(\"Labled_in_0.4.csv\", index_col=0)"
   ],
   "outputs": [],
   "metadata": {}
  },
  {
   "cell_type": "code",
   "execution_count": 30,
   "source": [
    "# 对train,val,test,需要修改三处地方\n",
    "def make_class_image(class_name):\n",
    "    class_df = TRAIN[TRAIN[class_name]==1.0]\n",
    "    class_dir = TRAIN_4_labeled_dir + class_name\n",
    "    if not os.path.exists(class_dir):\n",
    "        os.mkdir(class_dir)\n",
    "    for name in tqdm_notebook(class_df.index):\n",
    "        img = io.imread(data_dir+name+\".jpg\")\n",
    "        imageio.imsave(class_dir+ '/'+name+\".jpg\", img)\n",
    "make_class_image(\"MEL\")       \n",
    "make_class_image(\"BCC\")\n",
    "make_class_image(\"SCC\")\n",
    "make_class_image(\"NV\")"
   ],
   "outputs": [
    {
     "output_type": "stream",
     "name": "stderr",
     "text": [
      "/Users/tangyujin/04软件盘/anaconda3/envs/pytorch/lib/python3.6/site-packages/ipykernel_launcher.py:7: TqdmDeprecationWarning: This function will be removed in tqdm==5.0.0\n",
      "Please use `tqdm.notebook.tqdm` instead of `tqdm.tqdm_notebook`\n",
      "  import sys\n"
     ]
    },
    {
     "output_type": "display_data",
     "data": {
      "text/plain": [
       "  0%|          | 0/1266 [00:00<?, ?it/s]"
      ],
      "application/vnd.jupyter.widget-view+json": {
       "model_id": "8880f70742df4ee8bd6bbafddf772627",
       "version_major": 2,
       "version_minor": 0
      }
     },
     "metadata": {}
    },
    {
     "output_type": "stream",
     "name": "stderr",
     "text": [
      "/Users/tangyujin/04软件盘/anaconda3/envs/pytorch/lib/python3.6/site-packages/ipykernel_launcher.py:7: TqdmDeprecationWarning: This function will be removed in tqdm==5.0.0\n",
      "Please use `tqdm.notebook.tqdm` instead of `tqdm.tqdm_notebook`\n",
      "  import sys\n"
     ]
    },
    {
     "output_type": "display_data",
     "data": {
      "text/plain": [
       "  0%|          | 0/930 [00:00<?, ?it/s]"
      ],
      "application/vnd.jupyter.widget-view+json": {
       "model_id": "68466c3f2c7e42aabb828a74913a33a7",
       "version_major": 2,
       "version_minor": 0
      }
     },
     "metadata": {}
    },
    {
     "output_type": "stream",
     "name": "stderr",
     "text": [
      "/Users/tangyujin/04软件盘/anaconda3/envs/pytorch/lib/python3.6/site-packages/ipykernel_launcher.py:7: TqdmDeprecationWarning: This function will be removed in tqdm==5.0.0\n",
      "Please use `tqdm.notebook.tqdm` instead of `tqdm.tqdm_notebook`\n",
      "  import sys\n"
     ]
    },
    {
     "output_type": "display_data",
     "data": {
      "text/plain": [
       "  0%|          | 0/176 [00:00<?, ?it/s]"
      ],
      "application/vnd.jupyter.widget-view+json": {
       "model_id": "48b8e8a29614484db8c5e46bda5dadb1",
       "version_major": 2,
       "version_minor": 0
      }
     },
     "metadata": {}
    },
    {
     "output_type": "stream",
     "name": "stderr",
     "text": [
      "/Users/tangyujin/04软件盘/anaconda3/envs/pytorch/lib/python3.6/site-packages/ipykernel_launcher.py:7: TqdmDeprecationWarning: This function will be removed in tqdm==5.0.0\n",
      "Please use `tqdm.notebook.tqdm` instead of `tqdm.tqdm_notebook`\n",
      "  import sys\n"
     ]
    },
    {
     "output_type": "display_data",
     "data": {
      "text/plain": [
       "  0%|          | 0/3605 [00:00<?, ?it/s]"
      ],
      "application/vnd.jupyter.widget-view+json": {
       "model_id": "4dee6f22d4694054b72ab91b0431d9ed",
       "version_major": 2,
       "version_minor": 0
      }
     },
     "metadata": {}
    }
   ],
   "metadata": {}
  },
  {
   "cell_type": "code",
   "execution_count": 31,
   "source": [
    "TRAIN = pd.read_csv(\"Unlabled_in_0.1.csv\", index_col=0)\n",
    "# 对train,val,test,需要修改三处地方\n",
    "def make_class_image(class_name):\n",
    "    class_df = TRAIN[TRAIN[class_name]==1.0]\n",
    "    class_dir = TRAIN_1_unlabeled_dir + class_name\n",
    "    if not os.path.exists(class_dir):\n",
    "        os.mkdir(class_dir)\n",
    "    for name in tqdm_notebook(class_df.index):\n",
    "        img = io.imread(data_dir+name+\".jpg\")\n",
    "        imageio.imsave(class_dir+ '/'+name+\".jpg\", img)\n",
    "make_class_image(\"MEL\")       \n",
    "make_class_image(\"BCC\")\n",
    "make_class_image(\"SCC\")\n",
    "make_class_image(\"NV\")"
   ],
   "outputs": [
    {
     "output_type": "stream",
     "name": "stderr",
     "text": [
      "/Users/tangyujin/04软件盘/anaconda3/envs/pytorch/lib/python3.6/site-packages/ipykernel_launcher.py:8: TqdmDeprecationWarning: This function will be removed in tqdm==5.0.0\n",
      "Please use `tqdm.notebook.tqdm` instead of `tqdm.tqdm_notebook`\n",
      "  \n"
     ]
    },
    {
     "output_type": "display_data",
     "data": {
      "text/plain": [
       "  0%|          | 0/2849 [00:00<?, ?it/s]"
      ],
      "application/vnd.jupyter.widget-view+json": {
       "model_id": "9ec2088220154ff58ca1d1cd5a219c58",
       "version_major": 2,
       "version_minor": 0
      }
     },
     "metadata": {}
    },
    {
     "output_type": "stream",
     "name": "stderr",
     "text": [
      "/Users/tangyujin/04软件盘/anaconda3/envs/pytorch/lib/python3.6/site-packages/ipykernel_launcher.py:8: TqdmDeprecationWarning: This function will be removed in tqdm==5.0.0\n",
      "Please use `tqdm.notebook.tqdm` instead of `tqdm.tqdm_notebook`\n",
      "  \n"
     ]
    },
    {
     "output_type": "display_data",
     "data": {
      "text/plain": [
       "  0%|          | 0/2093 [00:00<?, ?it/s]"
      ],
      "application/vnd.jupyter.widget-view+json": {
       "model_id": "ca517f5722a741f2abb065ce931d62ed",
       "version_major": 2,
       "version_minor": 0
      }
     },
     "metadata": {}
    },
    {
     "output_type": "stream",
     "name": "stderr",
     "text": [
      "/Users/tangyujin/04软件盘/anaconda3/envs/pytorch/lib/python3.6/site-packages/ipykernel_launcher.py:8: TqdmDeprecationWarning: This function will be removed in tqdm==5.0.0\n",
      "Please use `tqdm.notebook.tqdm` instead of `tqdm.tqdm_notebook`\n",
      "  \n"
     ]
    },
    {
     "output_type": "display_data",
     "data": {
      "text/plain": [
       "  0%|          | 0/396 [00:00<?, ?it/s]"
      ],
      "application/vnd.jupyter.widget-view+json": {
       "model_id": "df4e6adb82e241a4b222fe17dbaacb34",
       "version_major": 2,
       "version_minor": 0
      }
     },
     "metadata": {}
    },
    {
     "output_type": "stream",
     "name": "stderr",
     "text": [
      "/Users/tangyujin/04软件盘/anaconda3/envs/pytorch/lib/python3.6/site-packages/ipykernel_launcher.py:8: TqdmDeprecationWarning: This function will be removed in tqdm==5.0.0\n",
      "Please use `tqdm.notebook.tqdm` instead of `tqdm.tqdm_notebook`\n",
      "  \n"
     ]
    },
    {
     "output_type": "display_data",
     "data": {
      "text/plain": [
       "  0%|          | 0/8111 [00:00<?, ?it/s]"
      ],
      "application/vnd.jupyter.widget-view+json": {
       "model_id": "de8a35b3d45a41c4a6e3f528c9cc83a8",
       "version_major": 2,
       "version_minor": 0
      }
     },
     "metadata": {}
    }
   ],
   "metadata": {}
  },
  {
   "cell_type": "code",
   "execution_count": 32,
   "source": [
    "TRAIN = pd.read_csv(\"Unlabled_in_0.2.csv\", index_col=0)\n",
    "# 对train,val,test,需要修改三处地方\n",
    "def make_class_image(class_name):\n",
    "    class_df = TRAIN[TRAIN[class_name]==1.0]\n",
    "    class_dir = TRAIN_2_unlabeled_dir + class_name\n",
    "    if not os.path.exists(class_dir):\n",
    "        os.mkdir(class_dir)\n",
    "    for name in tqdm_notebook(class_df.index):\n",
    "        img = io.imread(data_dir+name+\".jpg\")\n",
    "        imageio.imsave(class_dir+ '/'+name+\".jpg\", img)\n",
    "make_class_image(\"MEL\")       \n",
    "make_class_image(\"BCC\")\n",
    "make_class_image(\"SCC\")\n",
    "make_class_image(\"NV\")"
   ],
   "outputs": [
    {
     "output_type": "stream",
     "name": "stderr",
     "text": [
      "/Users/tangyujin/04软件盘/anaconda3/envs/pytorch/lib/python3.6/site-packages/ipykernel_launcher.py:8: TqdmDeprecationWarning: This function will be removed in tqdm==5.0.0\n",
      "Please use `tqdm.notebook.tqdm` instead of `tqdm.tqdm_notebook`\n",
      "  \n"
     ]
    },
    {
     "output_type": "display_data",
     "data": {
      "text/plain": [
       "  0%|          | 0/2532 [00:00<?, ?it/s]"
      ],
      "application/vnd.jupyter.widget-view+json": {
       "model_id": "451fb68612e345ce893ed462a6cfaa34",
       "version_major": 2,
       "version_minor": 0
      }
     },
     "metadata": {}
    },
    {
     "output_type": "stream",
     "name": "stderr",
     "text": [
      "/Users/tangyujin/04软件盘/anaconda3/envs/pytorch/lib/python3.6/site-packages/ipykernel_launcher.py:8: TqdmDeprecationWarning: This function will be removed in tqdm==5.0.0\n",
      "Please use `tqdm.notebook.tqdm` instead of `tqdm.tqdm_notebook`\n",
      "  \n"
     ]
    },
    {
     "output_type": "display_data",
     "data": {
      "text/plain": [
       "  0%|          | 0/1861 [00:00<?, ?it/s]"
      ],
      "application/vnd.jupyter.widget-view+json": {
       "model_id": "78f60746a8f84fbf9b7bf0d9007d2a22",
       "version_major": 2,
       "version_minor": 0
      }
     },
     "metadata": {}
    },
    {
     "output_type": "stream",
     "name": "stderr",
     "text": [
      "/Users/tangyujin/04软件盘/anaconda3/envs/pytorch/lib/python3.6/site-packages/ipykernel_launcher.py:8: TqdmDeprecationWarning: This function will be removed in tqdm==5.0.0\n",
      "Please use `tqdm.notebook.tqdm` instead of `tqdm.tqdm_notebook`\n",
      "  \n"
     ]
    },
    {
     "output_type": "display_data",
     "data": {
      "text/plain": [
       "  0%|          | 0/352 [00:00<?, ?it/s]"
      ],
      "application/vnd.jupyter.widget-view+json": {
       "model_id": "b4164545e93543a9ae24eae03d1849fd",
       "version_major": 2,
       "version_minor": 0
      }
     },
     "metadata": {}
    },
    {
     "output_type": "stream",
     "name": "stderr",
     "text": [
      "/Users/tangyujin/04软件盘/anaconda3/envs/pytorch/lib/python3.6/site-packages/ipykernel_launcher.py:8: TqdmDeprecationWarning: This function will be removed in tqdm==5.0.0\n",
      "Please use `tqdm.notebook.tqdm` instead of `tqdm.tqdm_notebook`\n",
      "  \n"
     ]
    },
    {
     "output_type": "display_data",
     "data": {
      "text/plain": [
       "  0%|          | 0/7210 [00:00<?, ?it/s]"
      ],
      "application/vnd.jupyter.widget-view+json": {
       "model_id": "d6f74ddbd1de435f8da8c0de7050af5c",
       "version_major": 2,
       "version_minor": 0
      }
     },
     "metadata": {}
    }
   ],
   "metadata": {}
  },
  {
   "cell_type": "code",
   "execution_count": 33,
   "source": [
    "TRAIN = pd.read_csv(\"Unlabled_in_0.4.csv\", index_col=0)\n",
    "# 对train,val,test,需要修改三处地方\n",
    "def make_class_image(class_name):\n",
    "    class_df = TRAIN[TRAIN[class_name]==1.0]\n",
    "    class_dir = TRAIN_4_unlabeled_dir + class_name\n",
    "    if not os.path.exists(class_dir):\n",
    "        os.mkdir(class_dir)\n",
    "    for name in tqdm_notebook(class_df.index):\n",
    "        img = io.imread(data_dir+name+\".jpg\")\n",
    "        imageio.imsave(class_dir+ '/'+name+\".jpg\", img)\n",
    "make_class_image(\"MEL\")       \n",
    "make_class_image(\"BCC\")\n",
    "make_class_image(\"SCC\")\n",
    "make_class_image(\"NV\")"
   ],
   "outputs": [
    {
     "output_type": "stream",
     "name": "stderr",
     "text": [
      "/Users/tangyujin/04软件盘/anaconda3/envs/pytorch/lib/python3.6/site-packages/ipykernel_launcher.py:8: TqdmDeprecationWarning: This function will be removed in tqdm==5.0.0\n",
      "Please use `tqdm.notebook.tqdm` instead of `tqdm.tqdm_notebook`\n",
      "  \n"
     ]
    },
    {
     "output_type": "display_data",
     "data": {
      "text/plain": [
       "  0%|          | 0/1899 [00:00<?, ?it/s]"
      ],
      "application/vnd.jupyter.widget-view+json": {
       "model_id": "a58b58fadd4c406e9d03d71bff8c5eb3",
       "version_major": 2,
       "version_minor": 0
      }
     },
     "metadata": {}
    },
    {
     "output_type": "stream",
     "name": "stderr",
     "text": [
      "/Users/tangyujin/04软件盘/anaconda3/envs/pytorch/lib/python3.6/site-packages/ipykernel_launcher.py:8: TqdmDeprecationWarning: This function will be removed in tqdm==5.0.0\n",
      "Please use `tqdm.notebook.tqdm` instead of `tqdm.tqdm_notebook`\n",
      "  \n"
     ]
    },
    {
     "output_type": "display_data",
     "data": {
      "text/plain": [
       "  0%|          | 0/1396 [00:00<?, ?it/s]"
      ],
      "application/vnd.jupyter.widget-view+json": {
       "model_id": "407e401a384342febd86986ef07c5024",
       "version_major": 2,
       "version_minor": 0
      }
     },
     "metadata": {}
    },
    {
     "output_type": "stream",
     "name": "stderr",
     "text": [
      "/Users/tangyujin/04软件盘/anaconda3/envs/pytorch/lib/python3.6/site-packages/ipykernel_launcher.py:8: TqdmDeprecationWarning: This function will be removed in tqdm==5.0.0\n",
      "Please use `tqdm.notebook.tqdm` instead of `tqdm.tqdm_notebook`\n",
      "  \n"
     ]
    },
    {
     "output_type": "display_data",
     "data": {
      "text/plain": [
       "  0%|          | 0/264 [00:00<?, ?it/s]"
      ],
      "application/vnd.jupyter.widget-view+json": {
       "model_id": "1cbbaa8379e7445483b23968ecea7e66",
       "version_major": 2,
       "version_minor": 0
      }
     },
     "metadata": {}
    },
    {
     "output_type": "stream",
     "name": "stderr",
     "text": [
      "/Users/tangyujin/04软件盘/anaconda3/envs/pytorch/lib/python3.6/site-packages/ipykernel_launcher.py:8: TqdmDeprecationWarning: This function will be removed in tqdm==5.0.0\n",
      "Please use `tqdm.notebook.tqdm` instead of `tqdm.tqdm_notebook`\n",
      "  \n"
     ]
    },
    {
     "output_type": "display_data",
     "data": {
      "text/plain": [
       "  0%|          | 0/5407 [00:00<?, ?it/s]"
      ],
      "application/vnd.jupyter.widget-view+json": {
       "model_id": "3ba320b75feb4c3fa54e6fa82d2300d7",
       "version_major": 2,
       "version_minor": 0
      }
     },
     "metadata": {}
    }
   ],
   "metadata": {}
  },
  {
   "cell_type": "code",
   "execution_count": 29,
   "source": [
    "# 对train,val,test,需要修改三处地方\n",
    "def make_class_image(class_name):\n",
    "    class_df = TRAIN[TRAIN[class_name]==1.0]\n",
    "    class_dir = TRAIN_4_dir + class_name\n",
    "    if not os.path.exists(class_dir):\n",
    "        os.mkdir(class_dir)\n",
    "    for name in tqdm_notebook(class_df.index):\n",
    "        img = io.imread(data_dir+name+\".jpg\")\n",
    "        imageio.imsave(class_dir+ '/'+name+\".jpg\", img)\n",
    "make_class_image(\"MEL\")       \n",
    "make_class_image(\"BCC\")\n",
    "make_class_image(\"SCC\")\n",
    "make_class_image(\"NV\")"
   ],
   "outputs": [
    {
     "output_type": "stream",
     "name": "stderr",
     "text": [
      "/Users/tangyujin/04软件盘/anaconda3/envs/pytorch/lib/python3.6/site-packages/ipykernel_launcher.py:7: TqdmDeprecationWarning: This function will be removed in tqdm==5.0.0\n",
      "Please use `tqdm.notebook.tqdm` instead of `tqdm.tqdm_notebook`\n",
      "  import sys\n"
     ]
    },
    {
     "output_type": "display_data",
     "data": {
      "text/plain": [
       "  0%|          | 0/1266 [00:00<?, ?it/s]"
      ],
      "application/vnd.jupyter.widget-view+json": {
       "model_id": "c60f55dad36146c98d755a31c060a242",
       "version_major": 2,
       "version_minor": 0
      }
     },
     "metadata": {}
    },
    {
     "output_type": "stream",
     "name": "stderr",
     "text": [
      "/Users/tangyujin/04软件盘/anaconda3/envs/pytorch/lib/python3.6/site-packages/ipykernel_launcher.py:7: TqdmDeprecationWarning: This function will be removed in tqdm==5.0.0\n",
      "Please use `tqdm.notebook.tqdm` instead of `tqdm.tqdm_notebook`\n",
      "  import sys\n"
     ]
    },
    {
     "output_type": "display_data",
     "data": {
      "text/plain": [
       "  0%|          | 0/930 [00:00<?, ?it/s]"
      ],
      "application/vnd.jupyter.widget-view+json": {
       "model_id": "dae2c8e5ca1244efb60a74e2c40f2ab4",
       "version_major": 2,
       "version_minor": 0
      }
     },
     "metadata": {}
    },
    {
     "output_type": "stream",
     "name": "stderr",
     "text": [
      "/Users/tangyujin/04软件盘/anaconda3/envs/pytorch/lib/python3.6/site-packages/ipykernel_launcher.py:7: TqdmDeprecationWarning: This function will be removed in tqdm==5.0.0\n",
      "Please use `tqdm.notebook.tqdm` instead of `tqdm.tqdm_notebook`\n",
      "  import sys\n"
     ]
    },
    {
     "output_type": "display_data",
     "data": {
      "text/plain": [
       "  0%|          | 0/176 [00:00<?, ?it/s]"
      ],
      "application/vnd.jupyter.widget-view+json": {
       "model_id": "e345f10ea4f944a994bb96dea5ebd141",
       "version_major": 2,
       "version_minor": 0
      }
     },
     "metadata": {}
    },
    {
     "output_type": "stream",
     "name": "stderr",
     "text": [
      "/Users/tangyujin/04软件盘/anaconda3/envs/pytorch/lib/python3.6/site-packages/ipykernel_launcher.py:7: TqdmDeprecationWarning: This function will be removed in tqdm==5.0.0\n",
      "Please use `tqdm.notebook.tqdm` instead of `tqdm.tqdm_notebook`\n",
      "  import sys\n"
     ]
    },
    {
     "output_type": "display_data",
     "data": {
      "text/plain": [
       "  0%|          | 0/3605 [00:00<?, ?it/s]"
      ],
      "application/vnd.jupyter.widget-view+json": {
       "model_id": "91cdd962a8f345049c421e68cc0f4fd4",
       "version_major": 2,
       "version_minor": 0
      }
     },
     "metadata": {}
    }
   ],
   "metadata": {}
  },
  {
   "cell_type": "code",
   "execution_count": 25,
   "source": [
    "TRAIN_1 = pd.read_csv(\"Labled_in_0.1.csv\", index_col=0)\n",
    "TRAIN_1.info()"
   ],
   "outputs": [
    {
     "output_type": "stream",
     "name": "stdout",
     "text": [
      "<class 'pandas.core.frame.DataFrame'>\n",
      "Index: 1494 entries, ISIC_0069320 to ISIC_0058584\n",
      "Data columns (total 9 columns):\n",
      " #   Column  Non-Null Count  Dtype  \n",
      "---  ------  --------------  -----  \n",
      " 0   MEL     1494 non-null   float64\n",
      " 1   NV      1494 non-null   float64\n",
      " 2   BCC     1494 non-null   float64\n",
      " 3   AK      1494 non-null   float64\n",
      " 4   BKL     1494 non-null   float64\n",
      " 5   DF      1494 non-null   float64\n",
      " 6   VASC    1494 non-null   float64\n",
      " 7   SCC     1494 non-null   float64\n",
      " 8   UNK     1494 non-null   float64\n",
      "dtypes: float64(9)\n",
      "memory usage: 116.7+ KB\n"
     ]
    }
   ],
   "metadata": {}
  },
  {
   "cell_type": "code",
   "execution_count": 11,
   "source": [
    "TRAIN_2 = pd.read_csv(\"Labled_in_0.2.csv\", index_col=0)\n",
    "TRAIN_2.info()"
   ],
   "outputs": [
    {
     "output_type": "stream",
     "name": "stdout",
     "text": [
      "<class 'pandas.core.frame.DataFrame'>\n",
      "Index: 2988 entries, ISIC_0032263 to ISIC_0072642\n",
      "Data columns (total 9 columns):\n",
      " #   Column  Non-Null Count  Dtype  \n",
      "---  ------  --------------  -----  \n",
      " 0   MEL     2988 non-null   float64\n",
      " 1   NV      2988 non-null   float64\n",
      " 2   BCC     2988 non-null   float64\n",
      " 3   AK      2988 non-null   float64\n",
      " 4   BKL     2988 non-null   float64\n",
      " 5   DF      2988 non-null   float64\n",
      " 6   VASC    2988 non-null   float64\n",
      " 7   SCC     2988 non-null   float64\n",
      " 8   UNK     2988 non-null   float64\n",
      "dtypes: float64(9)\n",
      "memory usage: 233.4+ KB\n"
     ]
    }
   ],
   "metadata": {}
  },
  {
   "cell_type": "code",
   "execution_count": 12,
   "source": [
    "TRAIN_4 = pd.read_csv(\"Labled_in_0.4.csv\", index_col=0)\n",
    "TRAIN_4.info()"
   ],
   "outputs": [
    {
     "output_type": "stream",
     "name": "stdout",
     "text": [
      "<class 'pandas.core.frame.DataFrame'>\n",
      "Index: 5977 entries, ISIC_0032413 to ISIC_0026337\n",
      "Data columns (total 9 columns):\n",
      " #   Column  Non-Null Count  Dtype  \n",
      "---  ------  --------------  -----  \n",
      " 0   MEL     5977 non-null   float64\n",
      " 1   NV      5977 non-null   float64\n",
      " 2   BCC     5977 non-null   float64\n",
      " 3   AK      5977 non-null   float64\n",
      " 4   BKL     5977 non-null   float64\n",
      " 5   DF      5977 non-null   float64\n",
      " 6   VASC    5977 non-null   float64\n",
      " 7   SCC     5977 non-null   float64\n",
      " 8   UNK     5977 non-null   float64\n",
      "dtypes: float64(9)\n",
      "memory usage: 467.0+ KB\n"
     ]
    }
   ],
   "metadata": {}
  },
  {
   "cell_type": "code",
   "execution_count": null,
   "source": [],
   "outputs": [],
   "metadata": {}
  }
 ],
 "metadata": {
  "kernelspec": {
   "name": "python3",
   "display_name": "Python 3.6.13 64-bit ('pytorch': conda)"
  },
  "language_info": {
   "codemirror_mode": {
    "name": "ipython",
    "version": 3
   },
   "file_extension": ".py",
   "mimetype": "text/x-python",
   "name": "python",
   "nbconvert_exporter": "python",
   "pygments_lexer": "ipython3",
   "version": "3.6.13"
  },
  "interpreter": {
   "hash": "d87840b5f76889e31fcd9ab94ce66ef028508c3a440add1512b143aa38df27a6"
  }
 },
 "nbformat": 4,
 "nbformat_minor": 5
}